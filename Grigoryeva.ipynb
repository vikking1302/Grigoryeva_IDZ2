{
 "cells": [
  {
   "cell_type": "markdown",
   "metadata": {},
   "source": [
    "# МЛиТА 2013\n",
    "# ИДЗ 2, вариант 3\n",
    "## Выполнила: Григорьева Виктория, студентка ЛЭТИ, гр. 9306\n",
    "\n",
    "Задание: Правильные скобочные записи, у которых внутри квадратных могут быть любые, а внутри круглых - ничего: ()[()[[()()]()[]]]"
   ]
  },
  {
   "cell_type": "markdown",
   "metadata": {},
   "source": [
    "#### 1. Набор граничных примеров и контрпримеров, демонстрирующих уточнение языка.\n",
    "<table style=\"border: 1px solid black\">\n",
    "    <tr>\n",
    "        <td style=\"border: 1px solid black; text-align: center\"><b>Правильно</b></td>\n",
    "        <td style=\"border: 1px solid black; text-align: center\"><b>Неправильно</b></td>\n",
    "    </tr>\n",
    "    <tr>\n",
    "        <td style=\"border: 1px solid black; text-align: center\">\n",
    "            ()<br>\n",
    "            ()[]<br>\n",
    "            ()[]()[]<br>\n",
    "            ()[()[]]<br>\n",
    "            []\n",
    "        </td>\n",
    "        <td style=\"border: 1px solid black; text-align: center\">\n",
    "            (<br>\n",
    "            [<br>\n",
    "            )<br>\n",
    "            ]<br>\n",
    "            ([])<br>\n",
    "            [(])<br>\n",
    "            ())\n",
    "        </td>\n",
    "    </tr>\n",
    "</table>"
   ]
  },
  {
   "cell_type": "markdown",
   "metadata": {},
   "source": [
    "#### 2. КС-грамматика языка."
   ]
  },
  {
   "cell_type": "code",
   "execution_count": null,
   "metadata": {},
   "outputs": [],
   "source": [
    "<expr> ::= ()<next> | [<next>]<next>\n",
    "<next> ::= <expr> | /\\ #Пустой символ"
   ]
  },
  {
   "cell_type": "markdown",
   "metadata": {},
   "source": [
    "#### 3. Грамматический разбор одного примера."
   ]
  },
  {
   "cell_type": "code",
   "execution_count": null,
   "metadata": {},
   "outputs": [],
   "source": [
    "() [ () [ () () [] ] ]\n",
    "\n",
    "<expr>\n",
    "() <next>\n",
    "() <expr>\n",
    "() [ <next> ] <next>\n",
    "() [ <expr> ] <next>\n",
    "() [ () <next> ] <next>\n",
    "() [ () <expr> ] <next>\n",
    "() [ () [ <next> ] <next> ] <next>\n",
    "() [ () [ <expr> ] <next> ] <next>\n",
    "() [ () [ () <next> ] <next> ] <next>\n",
    "() [ () [ () <expr> ] <next> ] <next>\n",
    "() [ () [ () () <next> ] <next> ] <next>\n",
    "() [ () [ () () <expr> ] <next> ] <next>\n",
    "() [ () [ () () [ <next> ] <next> ] <next> ] <next>\n",
    "() [ () [ () [] <next> ] <next> ] <next>\n",
    "() [ () [ () () [] ] <next> ] <next>\n",
    "() [ () [ () () [] ] ] <next>\n",
    "() [ () [ () () [] ] ] - correct"
   ]
  },
  {
   "attachments": {
    "Grigoryeva.png": {
     "image/png": "[encoded data removed]"
    }
   },
   "cell_type": "markdown",
   "metadata": {},
   "source": [
    "#### 4. Проверка того, что грамматика удовлетворяет однозначности ветвления по первому символу (принадлежит классу LL0).\n",
    "![Grigoryeva.png](attachment:Grigoryeva.png)\n",
    "\n",
    "Грамматика удовлетворяет условию однозначности ветвления по первому символу"
   ]
  },
  {
   "cell_type": "markdown",
   "metadata": {},
   "source": [
    "#### 5. Модифицированная грамматика (если исходная КС-грамматика не удовлетворяет условию однозначности ветвления).\n",
    "Грамматика удовлетворяет условию."
   ]
  },
  {
   "cell_type": "markdown",
   "metadata": {},
   "source": [
    "#### 6. Таблица перевода языка в диаграммы\n",
    "<table style=\"border: 1px solid black\">\n",
    "    <tr>\n",
    "        <td style=\"border: 1px solid black; text-align: center\"><b>Правило</b></td>\n",
    "        <td style=\"border: 1px solid black; text-align: center\"><b>Диаграмма</b></td>\n",
    "    </tr>\n",
    "    <tr>\n",
    "        <td style=\"border: 1px solid black; text-align: center\">expr</td>\n",
    "        <td style=\"border: 1px solid black\"><img src=\"Images/expr.png\"></td>\n",
    "    </tr>\n",
    "    <tr>\n",
    "        <td style=\"border: 1px solid black; text-align:center\">next</td>\n",
    "        <td style=\"border: 1px solid black\"><img src=\"Images/next.png\"></td>\n",
    "    </tr>\n",
    "</table>"
   ]
  },
  {
   "cell_type": "markdown",
   "metadata": {},
   "source": [
    "#### 7. Таблица перевода синтаксических диаграмм в алгоритм синтаксического анализа.\n",
    "<table style=\"border: 1px solid black\">\n",
    "    <tr>\n",
    "        <td style=\"border: 1px solid black; text-align: center\"><b>Диаграмма</b></td>\n",
    "        <td style=\"border: 1px solid black; text-align: center\"><b>Алгоритм</b></td>\n",
    "    </tr>\n",
    "    <tr>\n",
    "        <td style=\"border: 1px solid black\"><img src=\"Images/expr.png\"></td>\n",
    "        <td width=250 style=\"border: 1px solid black; text-align: left\">\n",
    "            <pre>\n",
    "Expr:\n",
    "{\n",
    "    if char == '(':\n",
    "    {\n",
    "        read(char);\n",
    "        if char == ')':\n",
    "        {\n",
    "            read(char);\n",
    "            Next;\n",
    "        }\n",
    "        else error;\n",
    "    }\n",
    "    else if char == '[':\n",
    "    {\n",
    "        read(char);\n",
    "        Next;\n",
    "        if char == ']':\n",
    "        {\n",
    "            read(char);\n",
    "            Next;\n",
    "        }\n",
    "        else error;\n",
    "    }\n",
    "    else error;\n",
    "}\n",
    "            </pre>\n",
    "        </td>\n",
    "     <tr>\n",
    "     <tr>\n",
    "        <td style=\"border: 1px solid black\"><img src=\"Images/next.png\"></td>\n",
    "        <td width = 250 style=\"border: 1px solid black; text-align: left\">\n",
    "            <pre>\n",
    "Next:\n",
    "{\n",
    "    if char == '/\\':\n",
    "    {\n",
    "        Skip; #Пропуск\n",
    "    }\n",
    "    else Expr;\n",
    "}\n",
    "            <pre>\n",
    "        </td>\n",
    "    </tr>\n",
    "</table>"
   ]
  },
  {
   "cell_type": "markdown",
   "metadata": {},
   "source": [
    "#### 8. Таблица перевода алгоритма в программу.\n",
    "<table style=\"border: 1px solid black\">\n",
    "    <tr>\n",
    "        <td style=\"border: 1px solid black; text-align: center\"><b>Алгоритм</b></td>\n",
    "        <td style=\"border: 1px solid black; text-align: center\"><b>Код (Python)</b></td>\n",
    "    </tr>\n",
    "    <tr>\n",
    "        <td style=\"border: 1px solid black; text-align: left\">\n",
    "            <pre>\n",
    "Expr:\n",
    "{\n",
    "    if char == '(':\n",
    "    {\n",
    "        read(char);\n",
    "        if char == ')':\n",
    "        {\n",
    "            read(char);\n",
    "            Next;\n",
    "        }\n",
    "        else error;\n",
    "    }\n",
    "    else if char == '[':\n",
    "    {\n",
    "        read(char);\n",
    "        Next;\n",
    "        if char == ']':\n",
    "        {\n",
    "            read(char);\n",
    "            Next;\n",
    "        }\n",
    "        else error;\n",
    "    }\n",
    "    else error;\n",
    "} \n",
    "            </pre>\n",
    "        <td width=280 style=\"border: 1px solid black; text-align: left\">\n",
    "            <pre>\n",
    "def Expr(ch):\n",
    "    if ch == '(':\n",
    "        ch = read()\n",
    "        if ch == ')':\n",
    "            ch = read()\n",
    "            ch = Next(ch)\n",
    "        else: raise ValueError\n",
    "    elif ch == '[':\n",
    "        ch = read()\n",
    "        ch = Next(ch)\n",
    "        if ch == ']':\n",
    "            ch = read()\n",
    "            ch = Next(ch) \n",
    "        else: raise ValueError\n",
    "    elif ch == '$':\n",
    "        ch = ch\n",
    "    else: raise ValueError\n",
    "    return ch\n",
    "            </pre>\n",
    "        </td>\n",
    "    </tr>\n",
    "    <tr>\n",
    "        <td width=230 style=\"border: 1px solid black; text-align: left\">\n",
    "            <pre>\n",
    "Next:\n",
    "{\n",
    "    if char == '/\\':\n",
    "    {\n",
    "        Skip; #Пропуск\n",
    "    }\n",
    "    else Expr;\n",
    "}\n",
    "            </pre>\n",
    "        </td>\n",
    "        <td style=\"border: 1px solid black; text-align:left\">\n",
    "            <pre>\n",
    "def Next(ch):\n",
    "    if ch == '(' or ch == '[':\n",
    "        ch = Expr(ch)\n",
    "    return ch\n",
    "            </pre>\n",
    "        </td>\n",
    "    </tr>\n",
    "</table>"
   ]
  },
  {
   "cell_type": "markdown",
   "metadata": {},
   "source": [
    "#### 9. Исходный код программы."
   ]
  },
  {
   "cell_type": "code",
   "execution_count": 1,
   "metadata": {
    "scrolled": true
   },
   "outputs": [
    {
     "name": "stdout",
     "output_type": "stream",
     "text": [
      "Enter your expression: ()[()[()()[]]]\n",
      "Correct\n"
     ]
    }
   ],
   "source": [
    "def read():\n",
    "    global s\n",
    "    ret = s[0]\n",
    "    s = s[1:]\n",
    "    \n",
    "    return ret\n",
    "\n",
    "def Expr(ch):\n",
    "    if ch == '(':\n",
    "        ch = read()\n",
    "        if ch == ')':\n",
    "            ch = read()\n",
    "            ch = Next(ch)\n",
    "        else: raise ValueError\n",
    "    elif ch == '[':\n",
    "        ch = read()\n",
    "        ch = Next(ch)\n",
    "        if ch == ']':\n",
    "            ch = read()\n",
    "            ch = Next(ch)\n",
    "            \n",
    "        else: raise ValueError\n",
    "    elif ch == '$':\n",
    "        ch = ch #Пропуск при достижении конца строки\n",
    "    else: raise ValueError\n",
    "    \n",
    "    return ch\n",
    "\n",
    "def Next(ch):\n",
    "    if ch == '(' or ch == '[':\n",
    "        ch = Expr(ch)\n",
    "    \n",
    "    return ch\n",
    "\n",
    "s = input('Enter your expression: ')\n",
    "s = s + '$'\n",
    "try:\n",
    "    ch = read()\n",
    "    ch = Expr(ch)\n",
    "    if ch == '$': print('Correct')\n",
    "    else: print('Incorrect')\n",
    "except ValueError as ve:\n",
    "    print('Incorrect')"
   ]
  },
  {
   "cell_type": "code",
   "execution_count": null,
   "metadata": {},
   "outputs": [],
   "source": []
  }
 ],
 "metadata": {
  "kernelspec": {
   "display_name": "Python 3",
   "language": "python",
   "name": "python3"
  },
  "language_info": {
   "codemirror_mode": {
    "name": "ipython",
    "version": 3
   },
   "file_extension": ".py",
   "mimetype": "text/x-python",
   "name": "python",
   "nbconvert_exporter": "python",
   "pygments_lexer": "ipython3",
   "version": "3.7.4"
  }
 },
 "nbformat": 4,
 "nbformat_minor": 2
}
